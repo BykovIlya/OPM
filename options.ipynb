{
 "cells": [
  {
   "cell_type": "code",
   "execution_count": 1,
   "metadata": {},
   "outputs": [],
   "source": [
    "import os               # подключаем требуемые пакеты\n",
    "import numpy as np\n",
    "import sympy as sp\n",
    "import pandas as pd\n",
    "from itertools import islice\n",
    "import math\n",
    "import time\n",
    "import scipy.stats\n",
    "from scipy import optimize\n",
    "import matplotlib as mpl\n",
    "import matplotlib.pyplot as plt "
   ]
  },
  {
   "cell_type": "code",
   "execution_count": 2,
   "metadata": {},
   "outputs": [],
   "source": [
    "import openpyxl as px"
   ]
  },
  {
   "cell_type": "code",
   "execution_count": 3,
   "metadata": {},
   "outputs": [],
   "source": [
    "wb = px.load_workbook('RIH9.xlsx', data_only = True)  # подружаем файл с исходными данными"
   ]
  },
  {
   "cell_type": "code",
   "execution_count": 4,
   "metadata": {},
   "outputs": [],
   "source": [
    "sheet = wb['Лист1']"
   ]
  },
  {
   "cell_type": "code",
   "execution_count": 5,
   "metadata": {},
   "outputs": [],
   "source": [
    "data = sheet.values                 # записываем данные из файла в dataFrame\n",
    "\n",
    "cols = next(data)[0:]\n",
    "\n",
    "data = list(data)[0:]\n",
    "\n",
    "idx = [r for r in range(0,len(data))]\n",
    "\n",
    "df = pd.DataFrame(data,index = idx, columns=cols) "
   ]
  },
  {
   "cell_type": "code",
   "execution_count": 6,
   "metadata": {},
   "outputs": [
    {
     "data": {
      "text/html": [
       "<div>\n",
       "<style scoped>\n",
       "    .dataframe tbody tr th:only-of-type {\n",
       "        vertical-align: middle;\n",
       "    }\n",
       "\n",
       "    .dataframe tbody tr th {\n",
       "        vertical-align: top;\n",
       "    }\n",
       "\n",
       "    .dataframe thead th {\n",
       "        text-align: right;\n",
       "    }\n",
       "</style>\n",
       "<table border=\"1\" class=\"dataframe\">\n",
       "  <thead>\n",
       "    <tr style=\"text-align: right;\">\n",
       "      <th></th>\n",
       "      <th>Страйк</th>\n",
       "      <th>Цена_BID</th>\n",
       "      <th>Цена_ASK</th>\n",
       "      <th>Тип</th>\n",
       "      <th>Время до экспирации (в годах)</th>\n",
       "    </tr>\n",
       "  </thead>\n",
       "  <tbody>\n",
       "    <tr>\n",
       "      <th>0</th>\n",
       "      <td>112500</td>\n",
       "      <td>10</td>\n",
       "      <td>20</td>\n",
       "      <td>PUT</td>\n",
       "      <td>0.003968</td>\n",
       "    </tr>\n",
       "    <tr>\n",
       "      <th>1</th>\n",
       "      <td>115000</td>\n",
       "      <td>30</td>\n",
       "      <td>40</td>\n",
       "      <td>PUT</td>\n",
       "      <td>0.003968</td>\n",
       "    </tr>\n",
       "    <tr>\n",
       "      <th>2</th>\n",
       "      <td>117500</td>\n",
       "      <td>110</td>\n",
       "      <td>130</td>\n",
       "      <td>PUT</td>\n",
       "      <td>0.003968</td>\n",
       "    </tr>\n",
       "    <tr>\n",
       "      <th>3</th>\n",
       "      <td>120000</td>\n",
       "      <td>670</td>\n",
       "      <td>700</td>\n",
       "      <td>CALL</td>\n",
       "      <td>0.003968</td>\n",
       "    </tr>\n",
       "    <tr>\n",
       "      <th>4</th>\n",
       "      <td>122500</td>\n",
       "      <td>70</td>\n",
       "      <td>80</td>\n",
       "      <td>CALL</td>\n",
       "      <td>0.003968</td>\n",
       "    </tr>\n",
       "    <tr>\n",
       "      <th>5</th>\n",
       "      <td>110000</td>\n",
       "      <td>60</td>\n",
       "      <td>80</td>\n",
       "      <td>PUT</td>\n",
       "      <td>0.023810</td>\n",
       "    </tr>\n",
       "    <tr>\n",
       "      <th>6</th>\n",
       "      <td>112500</td>\n",
       "      <td>100</td>\n",
       "      <td>120</td>\n",
       "      <td>PUT</td>\n",
       "      <td>0.023810</td>\n",
       "    </tr>\n",
       "    <tr>\n",
       "      <th>7</th>\n",
       "      <td>115000</td>\n",
       "      <td>250</td>\n",
       "      <td>300</td>\n",
       "      <td>PUT</td>\n",
       "      <td>0.023810</td>\n",
       "    </tr>\n",
       "    <tr>\n",
       "      <th>8</th>\n",
       "      <td>117500</td>\n",
       "      <td>650</td>\n",
       "      <td>710</td>\n",
       "      <td>PUT</td>\n",
       "      <td>0.023810</td>\n",
       "    </tr>\n",
       "    <tr>\n",
       "      <th>9</th>\n",
       "      <td>120000</td>\n",
       "      <td>1470</td>\n",
       "      <td>1640</td>\n",
       "      <td>CALL</td>\n",
       "      <td>0.023810</td>\n",
       "    </tr>\n",
       "    <tr>\n",
       "      <th>10</th>\n",
       "      <td>122500</td>\n",
       "      <td>560</td>\n",
       "      <td>600</td>\n",
       "      <td>CALL</td>\n",
       "      <td>0.023810</td>\n",
       "    </tr>\n",
       "    <tr>\n",
       "      <th>11</th>\n",
       "      <td>125000</td>\n",
       "      <td>150</td>\n",
       "      <td>170</td>\n",
       "      <td>CALL</td>\n",
       "      <td>0.023810</td>\n",
       "    </tr>\n",
       "    <tr>\n",
       "      <th>12</th>\n",
       "      <td>127500</td>\n",
       "      <td>30</td>\n",
       "      <td>60</td>\n",
       "      <td>CALL</td>\n",
       "      <td>0.023810</td>\n",
       "    </tr>\n",
       "    <tr>\n",
       "      <th>13</th>\n",
       "      <td>105000</td>\n",
       "      <td>150</td>\n",
       "      <td>170</td>\n",
       "      <td>PUT</td>\n",
       "      <td>0.063492</td>\n",
       "    </tr>\n",
       "    <tr>\n",
       "      <th>14</th>\n",
       "      <td>107500</td>\n",
       "      <td>200</td>\n",
       "      <td>240</td>\n",
       "      <td>PUT</td>\n",
       "      <td>0.063492</td>\n",
       "    </tr>\n",
       "    <tr>\n",
       "      <th>15</th>\n",
       "      <td>110000</td>\n",
       "      <td>330</td>\n",
       "      <td>370</td>\n",
       "      <td>PUT</td>\n",
       "      <td>0.063492</td>\n",
       "    </tr>\n",
       "    <tr>\n",
       "      <th>16</th>\n",
       "      <td>112500</td>\n",
       "      <td>550</td>\n",
       "      <td>580</td>\n",
       "      <td>PUT</td>\n",
       "      <td>0.063492</td>\n",
       "    </tr>\n",
       "    <tr>\n",
       "      <th>17</th>\n",
       "      <td>115000</td>\n",
       "      <td>900</td>\n",
       "      <td>940</td>\n",
       "      <td>PUT</td>\n",
       "      <td>0.063492</td>\n",
       "    </tr>\n",
       "    <tr>\n",
       "      <th>18</th>\n",
       "      <td>117500</td>\n",
       "      <td>1480</td>\n",
       "      <td>1520</td>\n",
       "      <td>PUT</td>\n",
       "      <td>0.063492</td>\n",
       "    </tr>\n",
       "    <tr>\n",
       "      <th>19</th>\n",
       "      <td>120000</td>\n",
       "      <td>2440</td>\n",
       "      <td>2490</td>\n",
       "      <td>CALL</td>\n",
       "      <td>0.063492</td>\n",
       "    </tr>\n",
       "    <tr>\n",
       "      <th>20</th>\n",
       "      <td>122500</td>\n",
       "      <td>1330</td>\n",
       "      <td>1370</td>\n",
       "      <td>CALL</td>\n",
       "      <td>0.063492</td>\n",
       "    </tr>\n",
       "    <tr>\n",
       "      <th>21</th>\n",
       "      <td>125000</td>\n",
       "      <td>660</td>\n",
       "      <td>670</td>\n",
       "      <td>CALL</td>\n",
       "      <td>0.063492</td>\n",
       "    </tr>\n",
       "    <tr>\n",
       "      <th>22</th>\n",
       "      <td>127500</td>\n",
       "      <td>290</td>\n",
       "      <td>320</td>\n",
       "      <td>CALL</td>\n",
       "      <td>0.063492</td>\n",
       "    </tr>\n",
       "    <tr>\n",
       "      <th>23</th>\n",
       "      <td>130000</td>\n",
       "      <td>130</td>\n",
       "      <td>140</td>\n",
       "      <td>CALL</td>\n",
       "      <td>0.063492</td>\n",
       "    </tr>\n",
       "    <tr>\n",
       "      <th>24</th>\n",
       "      <td>102500</td>\n",
       "      <td>400</td>\n",
       "      <td>480</td>\n",
       "      <td>PUT</td>\n",
       "      <td>0.134921</td>\n",
       "    </tr>\n",
       "    <tr>\n",
       "      <th>25</th>\n",
       "      <td>105000</td>\n",
       "      <td>560</td>\n",
       "      <td>600</td>\n",
       "      <td>PUT</td>\n",
       "      <td>0.134921</td>\n",
       "    </tr>\n",
       "    <tr>\n",
       "      <th>26</th>\n",
       "      <td>107500</td>\n",
       "      <td>790</td>\n",
       "      <td>810</td>\n",
       "      <td>PUT</td>\n",
       "      <td>0.134921</td>\n",
       "    </tr>\n",
       "    <tr>\n",
       "      <th>27</th>\n",
       "      <td>110000</td>\n",
       "      <td>1110</td>\n",
       "      <td>1190</td>\n",
       "      <td>PUT</td>\n",
       "      <td>0.134921</td>\n",
       "    </tr>\n",
       "    <tr>\n",
       "      <th>28</th>\n",
       "      <td>112500</td>\n",
       "      <td>1560</td>\n",
       "      <td>1600</td>\n",
       "      <td>PUT</td>\n",
       "      <td>0.134921</td>\n",
       "    </tr>\n",
       "    <tr>\n",
       "      <th>29</th>\n",
       "      <td>115000</td>\n",
       "      <td>2130</td>\n",
       "      <td>2170</td>\n",
       "      <td>PUT</td>\n",
       "      <td>0.134921</td>\n",
       "    </tr>\n",
       "    <tr>\n",
       "      <th>30</th>\n",
       "      <td>117500</td>\n",
       "      <td>2900</td>\n",
       "      <td>2970</td>\n",
       "      <td>PUT</td>\n",
       "      <td>0.134921</td>\n",
       "    </tr>\n",
       "    <tr>\n",
       "      <th>31</th>\n",
       "      <td>120000</td>\n",
       "      <td>3930</td>\n",
       "      <td>4010</td>\n",
       "      <td>CALL</td>\n",
       "      <td>0.134921</td>\n",
       "    </tr>\n",
       "    <tr>\n",
       "      <th>32</th>\n",
       "      <td>122500</td>\n",
       "      <td>2720</td>\n",
       "      <td>2800</td>\n",
       "      <td>CALL</td>\n",
       "      <td>0.134921</td>\n",
       "    </tr>\n",
       "    <tr>\n",
       "      <th>33</th>\n",
       "      <td>125000</td>\n",
       "      <td>1780</td>\n",
       "      <td>1860</td>\n",
       "      <td>CALL</td>\n",
       "      <td>0.134921</td>\n",
       "    </tr>\n",
       "    <tr>\n",
       "      <th>34</th>\n",
       "      <td>127500</td>\n",
       "      <td>1090</td>\n",
       "      <td>1170</td>\n",
       "      <td>CALL</td>\n",
       "      <td>0.134921</td>\n",
       "    </tr>\n",
       "    <tr>\n",
       "      <th>35</th>\n",
       "      <td>130000</td>\n",
       "      <td>640</td>\n",
       "      <td>720</td>\n",
       "      <td>CALL</td>\n",
       "      <td>0.134921</td>\n",
       "    </tr>\n",
       "    <tr>\n",
       "      <th>36</th>\n",
       "      <td>132500</td>\n",
       "      <td>350</td>\n",
       "      <td>400</td>\n",
       "      <td>CALL</td>\n",
       "      <td>0.134921</td>\n",
       "    </tr>\n",
       "    <tr>\n",
       "      <th>37</th>\n",
       "      <td>135000</td>\n",
       "      <td>180</td>\n",
       "      <td>220</td>\n",
       "      <td>CALL</td>\n",
       "      <td>0.134921</td>\n",
       "    </tr>\n",
       "  </tbody>\n",
       "</table>\n",
       "</div>"
      ],
      "text/plain": [
       "    Страйк  Цена_BID  Цена_ASK   Тип  Время до экспирации (в годах)\n",
       "0   112500        10        20   PUT                       0.003968\n",
       "1   115000        30        40   PUT                       0.003968\n",
       "2   117500       110       130   PUT                       0.003968\n",
       "3   120000       670       700  CALL                       0.003968\n",
       "4   122500        70        80  CALL                       0.003968\n",
       "5   110000        60        80   PUT                       0.023810\n",
       "6   112500       100       120   PUT                       0.023810\n",
       "7   115000       250       300   PUT                       0.023810\n",
       "8   117500       650       710   PUT                       0.023810\n",
       "9   120000      1470      1640  CALL                       0.023810\n",
       "10  122500       560       600  CALL                       0.023810\n",
       "11  125000       150       170  CALL                       0.023810\n",
       "12  127500        30        60  CALL                       0.023810\n",
       "13  105000       150       170   PUT                       0.063492\n",
       "14  107500       200       240   PUT                       0.063492\n",
       "15  110000       330       370   PUT                       0.063492\n",
       "16  112500       550       580   PUT                       0.063492\n",
       "17  115000       900       940   PUT                       0.063492\n",
       "18  117500      1480      1520   PUT                       0.063492\n",
       "19  120000      2440      2490  CALL                       0.063492\n",
       "20  122500      1330      1370  CALL                       0.063492\n",
       "21  125000       660       670  CALL                       0.063492\n",
       "22  127500       290       320  CALL                       0.063492\n",
       "23  130000       130       140  CALL                       0.063492\n",
       "24  102500       400       480   PUT                       0.134921\n",
       "25  105000       560       600   PUT                       0.134921\n",
       "26  107500       790       810   PUT                       0.134921\n",
       "27  110000      1110      1190   PUT                       0.134921\n",
       "28  112500      1560      1600   PUT                       0.134921\n",
       "29  115000      2130      2170   PUT                       0.134921\n",
       "30  117500      2900      2970   PUT                       0.134921\n",
       "31  120000      3930      4010  CALL                       0.134921\n",
       "32  122500      2720      2800  CALL                       0.134921\n",
       "33  125000      1780      1860  CALL                       0.134921\n",
       "34  127500      1090      1170  CALL                       0.134921\n",
       "35  130000       640       720  CALL                       0.134921\n",
       "36  132500       350       400  CALL                       0.134921\n",
       "37  135000       180       220  CALL                       0.134921"
      ]
     },
     "execution_count": 6,
     "metadata": {},
     "output_type": "execute_result"
    }
   ],
   "source": [
    "df"
   ]
  },
  {
   "cell_type": "code",
   "execution_count": 7,
   "metadata": {},
   "outputs": [],
   "source": [
    "# Задаем S - текущая цена базового актива и r - безрисковая процентная ставка\n",
    "S = 120035\n",
    "r = 0.01\n"
   ]
  },
  {
   "cell_type": "code",
   "execution_count": 76,
   "metadata": {
    "scrolled": true
   },
   "outputs": [
    {
     "name": "stdout",
     "output_type": "stream",
     "text": [
      "[0.43747417 0.35975074 0.27678833 0.21548705 0.23481585 0.2998701\n",
      " 0.25849901 0.23646393 0.22147806 0.19466802 0.19661127 0.19359358\n",
      " 0.1931964  0.30918303 0.28040528 0.26361466 0.247736   0.23088702\n",
      " 0.21597925 0.19768578 0.19136887 0.1895214  0.18799193 0.19227122\n",
      " 0.29919888 0.28719492 0.27631812 0.26591808 0.25680875 0.24579899\n",
      " 0.23621983 0.21802403 0.21170791 0.20593455 0.20032595 0.19699111\n",
      " 0.19352888 0.19063914]\n",
      "[0.47989011 0.37832578 0.29050661 0.22543674 0.24295941 0.31536205\n",
      " 0.26856123 0.24984037 0.23141375 0.217687   0.20323752 0.19999239\n",
      " 0.21706091 0.31677246 0.29185821 0.27172428 0.25214772 0.23534496\n",
      " 0.21961214 0.20183346 0.19493247 0.19067093 0.19321867 0.19523355\n",
      " 0.3126691  0.292648   0.27851213 0.27302741 0.25981004 0.24841924\n",
      " 0.24038644 0.22258056 0.2163499  0.21102198 0.20636223 0.20468985\n",
      " 0.20024566 0.1986716 ]\n"
     ]
    }
   ],
   "source": [
    "#Решаем уравнения относительно волатильности\n",
    "d1 = np.zeros(len(data))\n",
    "d2 = np.zeros(len(data))\n",
    "BIDdeltas = np.zeros(len(data))\n",
    "ASKdeltas = np.zeros(len(data))\n",
    "resB = np.zeros(len(data))\n",
    "\n",
    "#Описываем это уравнение\n",
    "def f(x, S, K, r, T, B, Param):\n",
    "    d1 = (np.log(S / K) + (r + (x**2) / 2) * T) / (x  * np.sqrt(T))\n",
    "    d2 = d1 - x * np.sqrt(T)\n",
    "    if B == 'CALL':\n",
    "        res = (S * scipy.stats.norm.cdf(d1) - K * np.exp(-r * T) * scipy.stats.norm.cdf(d2) - Param)\n",
    "    else:\n",
    "        res = (-S * scipy.stats.norm.cdf(-d1) + K * np.exp(-r * T) * scipy.stats.norm.cdf(-d2) - Param)\n",
    "    return res\n",
    "\n",
    "for i in range(0, len(data)):\n",
    "    K = df.loc[i,'Страйк']\n",
    "    T = df.loc[i,'Время до экспирации (в годах)']\n",
    "    B = df.loc[i,'Тип']\n",
    "    BID = df.loc[i,'Цена_BID']\n",
    "    ASK = df.loc[i,'Цена_ASK']\n",
    "    #if i == 6:\n",
    "    #z = np.arange(0.0001,0.5,0.00001)\n",
    "    #plt.grid(True)\n",
    "    #plt.plot(z,f(z,S, K, r, T, B, BID))\n",
    "    #plt.show()\n",
    "        #print(sp.solve(f(x,S, K, r, T, B, BID),x))\n",
    "        #print('x=',x)\n",
    "    x0BID = [0.42,0.36,0.16,0.2,0.22,0.3,0.25,0.16,0.12,0.19,        #устанавливаем начально приближение корня\n",
    "             0.2,0.2,0.2,0.31,0.28,0.26,0.25,0.23,0.22,0.2,\n",
    "             0.19,0.19,0.19,0.3,0.27,0.27,0.26,0.25,0.24,0.23,\n",
    "             0.21,0.21,0.2,0.2,0.19,0.2,0.2,0.2]\n",
    "    # Получаем массив волатильности BID\n",
    "    BIDdeltas[i] = optimize.newton(f, x0BID[i], args = (S, K, r, T, B, BID,), tol=1e-5, maxiter = 100)\n",
    "    # Получаем массив волатильности ASK\n",
    "    ASKdeltas[i] = optimize.newton(f, x0BID[i], args = (S, K, r, T, B, ASK,), tol=1e-5, maxiter = 100)\n",
    "    #print(f(BIDdeltas[i],S, K, r, T, B, BID)) #<---проверка \n",
    "    #print(f(ASKdeltas[i],S, K, r, T, B, ASK))\n",
    "print('BID deltas: 'BIDdeltas)                          #<--вывод массивов волатильности\n",
    "print('ASK deltas: 'ASKdeltas)"
   ]
  },
  {
   "cell_type": "code",
   "execution_count": 66,
   "metadata": {
    "scrolled": true
   },
   "outputs": [
    {
     "data": {
      "text/plain": [
       "[<matplotlib.lines.Line2D at 0x7f37a7b02eb8>]"
      ]
     },
     "execution_count": 66,
     "metadata": {},
     "output_type": "execute_result"
    },
    {
     "data": {
      "image/png": "[encoded data removed]",
      "text/plain": [
       "<Figure size 432x288 with 1 Axes>"
      ]
     },
     "metadata": {
      "needs_background": "light"
     },
     "output_type": "display_data"
    }
   ],
   "source": [
    "x = np.arange(-1,10,0.001)\n",
    "plt.plot(x,(-120035 * scipy.stats.norm.cdf(-(np.log(120035 / 112500) + (0.01 + (x**2) / 2) * 0.003968253968254) / (x  * np.sqrt(0.003968253968254))) + 112500 * np.exp(-0.01 * 0.003968253968254) * scipy.stats.norm.cdf(-(np.log(120035 / 112500) + (0.01 + (x**2) / 2) * 0.003968253968254 - x**2 * 0.003968253968254) / (x  * np.sqrt(0.003968253968254)))-10))\n",
    "#x = sp.symbols('x')\n",
    "#res = sp.solve((120035 * scipy.stats.norm.cdf((np.log(120035 / 112500) + (0.01 + (x**2) / 2) * 0.003968253968254) / (x  * np.sqrt(0.003968253968254))) - 112500 * np.exp(-0.01 * 0.003968253968254) * scipy.stats.norm.cdf((np.log(120035 / 112500) + (0.01 + (x**2) / 2) * 0.003968253968254 - x**2 * 0.003968253968254) / (x  * np.sqrt(0.003968253968254))) - 10),x)"
   ]
  },
  {
   "cell_type": "code",
   "execution_count": 63,
   "metadata": {},
   "outputs": [
    {
     "data": {
      "text/plain": [
       "-10.0"
      ]
     },
     "execution_count": 63,
     "metadata": {},
     "output_type": "execute_result"
    }
   ],
   "source": [
    "x=0.0000000000000001\n",
    "\n",
    "-120035 * scipy.stats.norm.cdf(-(np.log(120035 / 112500) + (0.01 + (x**2) / 2) * 0.003968253968254) / (x  * np.sqrt(0.003968253968254))) + 112500 * np.exp(-0.01 * 0.003968253968254) * scipy.stats.norm.cdf(-(np.log(120035 / 112500) + (0.01 + (x**2) / 2) * 0.003968253968254 - x**2 * 0.003968253968254) / (x  * np.sqrt(0.003968253968254)))-10\n"
   ]
  },
  {
   "cell_type": "code",
   "execution_count": 41,
   "metadata": {},
   "outputs": [
    {
     "data": {
      "text/plain": [
       "0.9999603182476591"
      ]
     },
     "execution_count": 41,
     "metadata": {},
     "output_type": "execute_result"
    }
   ],
   "source": [
    "np.exp(-0.01 * 0.003968253968254)"
   ]
  },
  {
   "cell_type": "code",
   "execution_count": 49,
   "metadata": {},
   "outputs": [
    {
     "data": {
      "text/plain": [
       "1.0"
      ]
     },
     "execution_count": 49,
     "metadata": {},
     "output_type": "execute_result"
    }
   ],
   "source": [
    "x=0.0000000001\n",
    "scipy.stats.norm.cdf((np.log(120035 / 112500) + (0.01 + (x**2) / 2) * 0.003968253968254) / (x  * np.sqrt(0.003968253968254)))"
   ]
  },
  {
   "cell_type": "code",
   "execution_count": 58,
   "metadata": {},
   "outputs": [
    {
     "data": {
      "text/plain": [
       "0.5193292119075047"
      ]
     },
     "execution_count": 58,
     "metadata": {},
     "output_type": "execute_result"
    }
   ],
   "source": [
    "x=5\n",
    "scipy.stats.norm.cdf((np.log(120035 / 112500) + (0.01 + (x**2) / 2) * 0.003968253968254 - x**2 * 0.003968253968254) / (x  * np.sqrt(0.003968253968254)))"
   ]
  },
  {
   "cell_type": "code",
   "execution_count": 57,
   "metadata": {},
   "outputs": [
    {
     "data": {
      "text/plain": [
       "0.04847012130873763"
      ]
     },
     "execution_count": 57,
     "metadata": {},
     "output_type": "execute_result"
    }
   ],
   "source": [
    "x=5\n",
    "(np.log(120035 / 112500) + (0.01 + (x**2) / 2) * 0.003968253968254 - x**2 * 0.003968253968254) / (x  * np.sqrt(0.003968253968254))"
   ]
  },
  {
   "cell_type": "code",
   "execution_count": null,
   "metadata": {},
   "outputs": [],
   "source": []
  }
 ],
 "metadata": {
  "kernelspec": {
   "display_name": "Python 3",
   "language": "python",
   "name": "python3"
  },
  "language_info": {
   "codemirror_mode": {
    "name": "ipython",
    "version": 3
   },
   "file_extension": ".py",
   "mimetype": "text/x-python",
   "name": "python",
   "nbconvert_exporter": "python",
   "pygments_lexer": "ipython3",
   "version": "3.6.8"
  }
 },
 "nbformat": 4,
 "nbformat_minor": 2
}
